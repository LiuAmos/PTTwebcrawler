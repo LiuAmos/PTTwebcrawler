{
 "cells": [
  {
   "cell_type": "code",
   "execution_count": 30,
   "metadata": {},
   "outputs": [
    {
     "name": "stdout",
     "output_type": "stream",
     "text": [
      "  (0, 6)\t0.6227660078332259\n",
      "  (0, 1)\t0.4736296010332684\n",
      "  (0, 2)\t0.6227660078332259\n",
      "  (1, 3)\t0.4736296010332684\n",
      "  (1, 4)\t0.6227660078332259\n",
      "  (1, 0)\t0.6227660078332259\n",
      "  (2, 1)\t0.5178561161676974\n",
      "  (2, 3)\t0.5178561161676974\n",
      "  (2, 5)\t0.680918560398684\n",
      "{'青年': 6, '吃货': 1, '唱歌': 2, '少年': 3, '游戏': 4, '叛逆': 0, '足球': 5}\n"
     ]
    }
   ],
   "source": [
    "# from sklearn.feature_extraction.text import CountVectorizer\n",
    "# from sklearn.feature_extraction.text import TfidfTransformer\n",
    "# tag_list = ['青年 吃货 唱歌',\n",
    "#             '少年 游戏 叛逆',\n",
    "#             '少年 吃货 足球']\n",
    "\n",
    "\n",
    "# countVectorizer = CountVectorizer()\n",
    "# doc_term_matrix = countVectorizer.fit_transform(tag_list)\n",
    "# print(doc_term_matrix)\n",
    "# vocabulary = countVectorizer.vocabulary_#得到词汇表\n",
    "# print(vocabulary)\n",
    "# tfidf_transformer = TfidfTransformer()\n",
    "# tfidf_matrix = tfidf_transformer.fit_transform(doc_term_matrix)\n",
    "# print(tfidf_matrix)\n",
    "\n",
    "from sklearn.feature_extraction.text import TfidfVectorizer\n",
    "\n",
    "tags_list = ['青年 吃货 唱歌',\n",
    "            '少年 游戏 叛逆',\n",
    "            '少年 吃货 足球']\n",
    "\n",
    "tfidfVecorizer = TfidfVectorizer(analyzer=lambda x:x.split(' '))\n",
    "tfidf_matrix = tfidfVecorizer.fit_transform(tags_list)\n",
    "print(tfidf_matrix)\n",
    "term2id_dict = tfidfVecorizer.vocabulary_\n",
    "print(term2id_dict)"
   ]
  },
  {
   "cell_type": "code",
   "execution_count": null,
   "metadata": {},
   "outputs": [],
   "source": []
  },
  {
   "cell_type": "code",
   "execution_count": null,
   "metadata": {},
   "outputs": [],
   "source": []
  },
  {
   "cell_type": "code",
   "execution_count": null,
   "metadata": {},
   "outputs": [],
   "source": []
  },
  {
   "cell_type": "code",
   "execution_count": null,
   "metadata": {},
   "outputs": [],
   "source": []
  },
  {
   "cell_type": "code",
   "execution_count": null,
   "metadata": {},
   "outputs": [],
   "source": []
  }
 ],
 "metadata": {
  "kernelspec": {
   "display_name": "Python 3",
   "language": "python",
   "name": "python3"
  },
  "language_info": {
   "codemirror_mode": {
    "name": "ipython",
    "version": 3
   },
   "file_extension": ".py",
   "mimetype": "text/x-python",
   "name": "python",
   "nbconvert_exporter": "python",
   "pygments_lexer": "ipython3",
   "version": "3.7.0"
  }
 },
 "nbformat": 4,
 "nbformat_minor": 2
}
