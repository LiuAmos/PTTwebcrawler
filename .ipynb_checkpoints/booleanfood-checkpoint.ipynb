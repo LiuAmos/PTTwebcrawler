{
 "cells": [
  {
   "cell_type": "code",
   "execution_count": 18,
   "metadata": {},
   "outputs": [
    {
     "name": "stdout",
     "output_type": "stream",
     "text": [
      "沒找到\n"
     ]
    }
   ],
   "source": [
    "import jieba\n",
    "import jieba.posseg as pseg\n",
    "import jieba.analyse\n",
    "\n",
    "j=0\n",
    "#path='C:\\\\Users\\\\amos\\\\Desktop\\\\Untitled Folder 1\\\\food\\\\'\n",
    "path='C:\\\\Users\\\\User\\\\Desktop\\\\Untitled Folder\\\\food\\\\'\n",
    "list_string=[]\n",
    "list_boolean=[]\n",
    "#list_string.append('')\n",
    "list_boolean.append(True)\n",
    "#print(list_boolean)\n",
    "\n",
    "for i in range (0,101):\n",
    "    f = open(path+'f_'+str(j)+'.text','r',encoding = 'utf8')\n",
    "    #content=f.readlines()\n",
    "    content=f.read()\n",
    "    list_string.append(content)\n",
    "    f.close()\n",
    "    j=j+1\n",
    "\n",
    "\n",
    "    \n",
    "    \n",
    "if list_string[1].find('料數') == -1:\n",
    "    print('沒找到')\n",
    "else:\n",
    "    print('找到了!')\n",
    "\n",
    "    "
   ]
  },
  {
   "cell_type": "code",
   "execution_count": 19,
   "metadata": {},
   "outputs": [
    {
     "name": "stdout",
     "output_type": "stream",
     "text": [
      "...,00,05,06,08,11,2018,22,30,Aug,Food,bbs,cc,com,html,http,https,ptt,www,一個,不會,不過,不錯,來自,來說,口感,可以,味道,喜歡,因為,地址,壽司,好吃,實業,感覺,應該,我們,推薦,時間,有點,標題,比較,沒有,消費,營業時間,發信站,看板,網址,菜單,覺得,豆花,起來,踢踢,這樣,還是,還有,雖然,電話,食記,餐廳\n"
     ]
    }
   ],
   "source": [
    "print(list_string[0])"
   ]
  },
  {
   "cell_type": "code",
   "execution_count": null,
   "metadata": {},
   "outputs": [],
   "source": []
  }
 ],
 "metadata": {
  "kernelspec": {
   "display_name": "Python 3",
   "language": "python",
   "name": "python3"
  },
  "language_info": {
   "codemirror_mode": {
    "name": "ipython",
    "version": 3
   },
   "file_extension": ".py",
   "mimetype": "text/x-python",
   "name": "python",
   "nbconvert_exporter": "python",
   "pygments_lexer": "ipython3",
   "version": "3.7.0"
  }
 },
 "nbformat": 4,
 "nbformat_minor": 2
}
