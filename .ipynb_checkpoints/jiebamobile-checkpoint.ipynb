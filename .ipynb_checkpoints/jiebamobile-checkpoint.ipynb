{
 "cells": [
  {
   "cell_type": "code",
   "execution_count": 85,
   "metadata": {},
   "outputs": [
    {
     "name": "stdout",
     "output_type": "stream",
     "text": [
      "...,00,01,02,03,04,05,06,07,08,09,10,11,12,13,14,15,16,17,18,19,20,2018,21,22,23,28,51,54,Aug,MobileComm,bbs,cc,com,html,https,imgur,jpg,ptt,www,不會,什麼,來自,問題,實業,應該,手機,時間,標題,比較,沒有,現在,發信站,看板,網址,編輯,螢幕,覺得,踢踢,還是\n"
     ]
    }
   ],
   "source": [
    "import jieba\n",
    "import jieba.posseg as pseg\n",
    "import jieba.analyse\n",
    "\n",
    "j=1\n",
    "path='C:\\\\Users\\\\amos\\\\Desktop\\\\Untitled Folder 1\\\\mobile\\\\'\n",
    "list_mobile=[]\n",
    "str_mobile=''\n",
    "list_empty=[]\n",
    "list_mobile.append(list_empty)\n",
    "#print(len(list_mobile))\n",
    "#print(list_mobile)\n",
    "for i in range (1,101):\n",
    "    f = open(path+'m_'+str(j)+'.text','r',encoding = 'utf8')\n",
    "    #content=f.readlines()\n",
    "    content=f.read()\n",
    "    #content=[x.replace('\\n','') for x in content]\n",
    "    #print(type(content))\n",
    "    #list_mobile.append(content)\n",
    "    str_mobile=str_mobile+content\n",
    "    #print(content[120])\n",
    "    #print(len(content))\n",
    "    f.close()\n",
    "    j=j+1\n",
    "#print(len(list_mobile))\n",
    "#print(list_mobile[1])\n",
    "\n",
    "tags=jieba.analyse.extract_tags(str_mobile,60)\n",
    "tags.sort()\n",
    "tags=','.join(tags)\n",
    "print(tags)\n",
    "f = open(path+'m_0'+'.text','w',encoding = 'utf8')\n",
    "f.write(tags)\n",
    "f.close()\n",
    "#print('\\n'.join(tags))\n",
    "# sentence=\"我是小明我愛吃肉包\"\n",
    "# print(sentence)\n",
    "# jieba.set_dictionary('dict.txt.big')\n",
    "# #words=pseg.cut(sentence)\n",
    "# words=jieba.cut(sentence,cut_all=False)\n",
    "\n",
    "# for word in words:\n",
    "#     #print(word.word,word.flag)\n",
    "#     print(word)"
   ]
  },
  {
   "cell_type": "code",
   "execution_count": null,
   "metadata": {},
   "outputs": [],
   "source": []
  },
  {
   "cell_type": "code",
   "execution_count": null,
   "metadata": {},
   "outputs": [],
   "source": []
  }
 ],
 "metadata": {
  "kernelspec": {
   "display_name": "Python 3",
   "language": "python",
   "name": "python3"
  },
  "language_info": {
   "codemirror_mode": {
    "name": "ipython",
    "version": 3
   },
   "file_extension": ".py",
   "mimetype": "text/x-python",
   "name": "python",
   "nbconvert_exporter": "python",
   "pygments_lexer": "ipython3",
   "version": "3.7.0"
  }
 },
 "nbformat": 4,
 "nbformat_minor": 2
}
