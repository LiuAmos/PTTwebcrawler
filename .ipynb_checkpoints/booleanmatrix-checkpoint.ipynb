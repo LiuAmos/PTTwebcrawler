{
 "cells": [
  {
   "cell_type": "code",
   "execution_count": 24,
   "metadata": {
    "scrolled": false
   },
   "outputs": [
    {
     "name": "stdout",
     "output_type": "stream",
     "text": [
      "201\n"
     ]
    }
   ],
   "source": [
    "import jieba\n",
    "import jieba.posseg as pseg\n",
    "import jieba.analyse\n",
    "import csv\n",
    "\n",
    "\n",
    "#path='C:\\\\Users\\\\amos\\\\Desktop\\\\Untitled Folder 1\\\\food\\\\'\n",
    "#path='C:\\\\Users\\\\User\\\\Desktop\\\\Untitled Folder\\\\food\\\\'\n",
    "#path='C:\\\\Users\\\\amos\\\\Desktop\\\\PTTwebcrawler\\\\food\\\\'\n",
    "#path_mobile='C:\\\\Users\\\\amos\\\\Desktop\\\\PTTwebcrawler\\\\mobile\\\\'\n",
    "path='C:\\\\Users\\\\User\\Desktop\\\\PTTwebcrawler\\\\food\\\\'\n",
    "path_mobile='C:\\\\Users\\\\User\\\\Desktop\\\\PTTwebcrawler\\\\mobile\\\\'\n",
    "\n",
    "list_string_food=[]\n",
    "list_string_mobile=[]\n",
    "list_string_total=[]\n",
    "\n",
    "list_feature_food=[]\n",
    "list_feature_mobile=[]\n",
    "list_feature_total=[]\n",
    "\n",
    "list_boolean=[]\n",
    "\n",
    "#list_string.append('')\n",
    "list_boolean.append(['Boo'])\n",
    "\n",
    "#list_boolean[0][0]='下面是關鍵字'\n",
    "#list_feature.append('')\n",
    "#print(list_boolean)\n",
    "#print(list_feature)\n",
    "\n",
    "for i in range (0,101):\n",
    "    f = open(path+'f_'+str(i)+'.text','r',encoding = 'utf8')\n",
    "    content=f.read()\n",
    "    list_string_food.append(content)\n",
    "    f.close()\n",
    "    \n",
    "for j in range (0,101):\n",
    "    f = open(path_mobile+'m_'+str(j)+'.text','r',encoding = 'utf8')\n",
    "    content=f.read()\n",
    "    list_string_mobile.append(content)\n",
    "    f.close()\n",
    "    \n",
    "\n",
    "\n",
    "list_feature_food=list_string_food[0].split(',')\n",
    "list_feature_mobile=list_string_mobile[0].split(',')\n",
    "list_feature_total=list_feature_food+list_feature_mobile\n",
    "list_string_total=list(list_string_food)\n",
    "for total in range(1,101) :\n",
    "    list_string_total.append(list_string_mobile[total])\n",
    "print(len(list_string_total))\n",
    "#print(list_string_total[1])"
   ]
  },
  {
   "cell_type": "code",
   "execution_count": 25,
   "metadata": {},
   "outputs": [],
   "source": [
    "counter=1\n",
    "for p in range (1,202):\n",
    "    if counter<101: \n",
    "        list_boolean.append(['f_'+str(counter)])\n",
    "    if counter>101: \n",
    "        list_boolean.append(['m_'+str(counter-101)])\n",
    "    counter=counter+1\n",
    "\n",
    "#print(list_boolean)\n",
    "#print(list_boolean[0][0])\n",
    "#print(list_feature_total)\n",
    "#print(list_string_total[101])\n",
    "\n",
    "for q in range (1,121):\n",
    "    list_boolean[0].append(list_feature_total[q-1])\n",
    "\n",
    "for k in range (1,201):\n",
    "    for m in range(0,120):\n",
    "        if list_string_total[k].find(list_feature_total[m]) == -1:\n",
    "            #print('沒找到')\n",
    "            list_boolean[k].append('0')\n",
    "        else:\n",
    "            #print('找到了!')\n",
    "            list_boolean[k].append('1')\n",
    "\n",
    "#print(list_boolean[3])"
   ]
  },
  {
   "cell_type": "code",
   "execution_count": null,
   "metadata": {},
   "outputs": [],
   "source": []
  },
  {
   "cell_type": "code",
   "execution_count": 26,
   "metadata": {},
   "outputs": [],
   "source": [
    "with open('Boolean.csv', 'w', newline='') as csvfile:\n",
    "  writer = csv.writer(csvfile)\n",
    "  # 寫入二維表格\n",
    "  writer.writerows(list_boolean)"
   ]
  },
  {
   "cell_type": "code",
   "execution_count": null,
   "metadata": {},
   "outputs": [],
   "source": []
  },
  {
   "cell_type": "code",
   "execution_count": null,
   "metadata": {},
   "outputs": [],
   "source": []
  }
 ],
 "metadata": {
  "kernelspec": {
   "display_name": "Python 3",
   "language": "python",
   "name": "python3"
  },
  "language_info": {
   "codemirror_mode": {
    "name": "ipython",
    "version": 3
   },
   "file_extension": ".py",
   "mimetype": "text/x-python",
   "name": "python",
   "nbconvert_exporter": "python",
   "pygments_lexer": "ipython3",
   "version": "3.7.0"
  }
 },
 "nbformat": 4,
 "nbformat_minor": 2
}
