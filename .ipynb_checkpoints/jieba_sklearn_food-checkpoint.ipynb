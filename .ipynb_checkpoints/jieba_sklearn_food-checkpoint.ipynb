{
 "cells": [
  {
   "cell_type": "code",
   "execution_count": null,
   "metadata": {},
   "outputs": [
    {
     "name": "stderr",
     "output_type": "stream",
     "text": [
      "Building prefix dict from C:\\Users\\amos\\Desktop\\PTTwebcrawler\\dict.txt.big ...\n",
      "Loading model from cache C:\\Users\\amos\\AppData\\Local\\Temp\\jieba.u16651b329cbcd575f83fb1fd1020814f.cache\n",
      "Loading model cost 1.325 seconds.\n",
      "Prefix dict has been built succesfully.\n"
     ]
    }
   ],
   "source": [
    "import jieba\n",
    "import jieba.posseg as pseg\n",
    "import jieba.analyse\n",
    "from sklearn.feature_extraction.text import TfidfVectorizer\n",
    "import numpy as np\n",
    "jieba.set_dictionary('dict.txt.big')\n",
    "\n",
    "\n",
    "j=1\n",
    "path='C:\\\\Users\\\\amos\\\\Desktop\\\\PTTwebcrawler\\\\food\\\\'\n",
    "list_food=[]\n",
    "eachdoc_str=''\n",
    "#print(list_food)\n",
    "for i in range (1,101):\n",
    "    f = open(path+'f_'+str(j)+'.text','r',encoding = 'utf8')\n",
    "    #content=f.readlines()\n",
    "    content=f.read()\n",
    "    eachdoc_cut=jieba.cut(content,cut_all=False)\n",
    "    for k in eachdoc_cut:\n",
    "        #print(k)\n",
    "        eachdoc_str=eachdoc_str+k+' '\n",
    "    eachdoc_str=eachdoc_str.strip()\n",
    "    list_food.append(eachdoc_str)\n",
    "\n",
    "    f.close()\n",
    "    j=j+1\n",
    "# for q in range (0,2):\n",
    "#     print(list_food[q])\n",
    "#print(list_food[0])\n",
    "len_list_food=len(list_food)\n",
    "tfidf_matrix_toarray=[]\n",
    "tfidf_matrix_array=[]\n",
    "list_feature=[]\n",
    "\n",
    "tfidfVecorizer = TfidfVectorizer(analyzer=lambda x:x.split(' '))\n",
    "tfidf_matrix = tfidfVecorizer.fit_transform(list_food)\n",
    "tfidf_matrix_toarray=tfidf_matrix.toarray()\n",
    "\n",
    "c=0\n",
    "for a in range(0,len(tfidf_matrix.toarray())):\n",
    "    for b in range(0,len(tfidf_matrix.toarray()[0])):\n",
    "        tfidf_matrix_array.append(tfidf_matrix_toarray[a][b])\n",
    "        c=c+1\n",
    "tfidf_matrix_array.sort(reverse = True)\n",
    "#print(tfidf_matrix[0,1])\n",
    "#print(type(tfidf_matrix))\n",
    "#print(tfidf_matrix)\n",
    "\n",
    "term2id_dict = tfidfVecorizer.vocabulary_\n",
    "new_dict = {v : k for k, v in term2id_dict.items()}\n",
    "\n",
    "feature_counter=0\n",
    "\n",
    "for ft in range(0,60):\n",
    "    break_flag=False\n",
    "    for z in range(0,len_list_food):\n",
    "        #print(z)\n",
    "        for w in range (0,len(new_dict)):\n",
    "\n",
    "            if tfidf_matrix_array[feature_counter]==tfidf_matrix[z,w]:\n",
    "#                 print(z,w)\n",
    "#                 print(new_dict[w])\n",
    "                if new_dict[w] not in list_feature:\n",
    "                    list_feature.append(new_dict[w])\n",
    "                    feature_counter=feature_counter+1\n",
    "                    #print(feature_counter)\n",
    "                    break_flag=True\n",
    "                    break\n",
    "        if break_flag:\n",
    "            break\n",
    "#print(type(term2id_dict))\n",
    "#print(term2id_dict)\n",
    "# f = open(path+'f_0'+'.text','w',encoding = 'utf8')\n",
    "# f.write(tags)\n",
    "# f.close()\n",
    "#print('\\n'.join(tags))\n",
    "print(list_feature)"
   ]
  },
  {
   "cell_type": "code",
   "execution_count": null,
   "metadata": {},
   "outputs": [],
   "source": []
  },
  {
   "cell_type": "code",
   "execution_count": null,
   "metadata": {},
   "outputs": [],
   "source": []
  }
 ],
 "metadata": {
  "kernelspec": {
   "display_name": "Python 3",
   "language": "python",
   "name": "python3"
  },
  "language_info": {
   "codemirror_mode": {
    "name": "ipython",
    "version": 3
   },
   "file_extension": ".py",
   "mimetype": "text/x-python",
   "name": "python",
   "nbconvert_exporter": "python",
   "pygments_lexer": "ipython3",
   "version": "3.7.0"
  }
 },
 "nbformat": 4,
 "nbformat_minor": 2
}
