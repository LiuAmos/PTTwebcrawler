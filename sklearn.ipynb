{
 "cells": [
  {
   "cell_type": "code",
   "execution_count": 79,
   "metadata": {},
   "outputs": [
    {
     "name": "stdout",
     "output_type": "stream",
     "text": [
      "['young eat song', 'teenager gameboy bad', 'teenager eat football']\n",
      "<class 'scipy.sparse.csr.csr_matrix'>\n",
      "  (0, 6)\t0.6227660078332259\n",
      "  (0, 1)\t0.4736296010332684\n",
      "  (0, 4)\t0.6227660078332259\n",
      "  (1, 5)\t0.4736296010332684\n",
      "  (1, 3)\t0.6227660078332259\n",
      "  (1, 0)\t0.6227660078332259\n",
      "  (2, 1)\t0.5178561161676974\n",
      "  (2, 5)\t0.5178561161676974\n",
      "  (2, 2)\t0.680918560398684\n",
      "[[0.         0.4736296  0.         0.         0.62276601 0.\n",
      "  0.62276601]\n",
      " [0.62276601 0.         0.         0.62276601 0.         0.4736296\n",
      "  0.        ]\n",
      " [0.         0.51785612 0.68091856 0.         0.         0.51785612\n",
      "  0.        ]]\n",
      "<class 'numpy.ndarray'>\n",
      "[0.680918560398684, 0.6227660078332259, 0.6227660078332259, 0.6227660078332259, 0.6227660078332259, 0.5178561161676974, 0.5178561161676974, 0.4736296010332684, 0.4736296010332684, 0.0, 0.0, 0.0, 0.0, 0.0, 0.0, 0.0, 0.0, 0.0, 0.0, 0.0, 0.0]\n",
      "<class 'dict'>\n",
      "{6: 'young', 1: 'eat', 4: 'song', 5: 'teenager', 3: 'gameboy', 0: 'bad', 2: 'football'}\n"
     ]
    }
   ],
   "source": [
    "# from sklearn.feature_extraction.text import CountVectorizer\n",
    "# from sklearn.feature_extraction.text import TfidfTransformer\n",
    "# tag_list = ['青年 吃货 唱歌',\n",
    "#             '少年 游戏 叛逆',\n",
    "#             '少年 吃货 足球']\n",
    "\n",
    "\n",
    "# countVectorizer = CountVectorizer()\n",
    "# doc_term_matrix = countVectorizer.fit_transform(tag_list)\n",
    "# print(doc_term_matrix)\n",
    "# vocabulary = countVectorizer.vocabulary_#得到词汇表\n",
    "# print(vocabulary)\n",
    "# tfidf_transformer = TfidfTransformer()\n",
    "# tfidf_matrix = tfidf_transformer.fit_transform(doc_term_matrix)\n",
    "# print(tfidf_matrix)\n",
    "\n",
    "from sklearn.feature_extraction.text import TfidfVectorizer\n",
    "import numpy as np\n",
    "k=0\n",
    "tags_list = ['young eat song','teenager gameboy bad', 'teenager eat football']\n",
    "print(tags_list)\n",
    "# tags_list[0]=tags_list[0].strip()\n",
    "# print(tags_list)\n",
    "tfidf_matrix_toarray=[]\n",
    "tfidf_matrix_array=[]\n",
    "\n",
    "tfidfVecorizer = TfidfVectorizer(analyzer=lambda x:x.split(' '))\n",
    "tfidf_matrix = tfidfVecorizer.fit_transform(tags_list)\n",
    "print(type(tfidf_matrix))\n",
    "print(tfidf_matrix)\n",
    "tfidf_matrix_toarray=tfidf_matrix.toarray()\n",
    "print(tfidf_matrix_toarray)\n",
    "print(type(tfidf_matrix_toarray))\n",
    "#print(len(tfidf_matrix.toarray()))\n",
    "#print(len(tfidf_matrix.toarray()[0]))\n",
    "for i in range(0,len(tfidf_matrix.toarray())):\n",
    "    for j in range(0,len(tfidf_matrix.toarray()[0])):\n",
    "        tfidf_matrix_array.append(tfidf_matrix_toarray[i][j])\n",
    "        k=k+1\n",
    "tfidf_matrix_array.sort(reverse = True)\n",
    "print(tfidf_matrix_array)\n",
    "\n",
    "term2id_dict = tfidfVecorizer.vocabulary_\n",
    "print(type(term2id_dict))\n",
    "#print(term2id_dict)\n",
    "new_dict = {v : k for k, v in term2id_dict.items()}\n",
    "print(new_dict)"
   ]
  },
  {
   "cell_type": "code",
   "execution_count": null,
   "metadata": {},
   "outputs": [],
   "source": []
  },
  {
   "cell_type": "code",
   "execution_count": null,
   "metadata": {},
   "outputs": [],
   "source": []
  },
  {
   "cell_type": "code",
   "execution_count": null,
   "metadata": {},
   "outputs": [],
   "source": []
  },
  {
   "cell_type": "code",
   "execution_count": null,
   "metadata": {},
   "outputs": [],
   "source": []
  },
  {
   "cell_type": "code",
   "execution_count": null,
   "metadata": {},
   "outputs": [],
   "source": []
  }
 ],
 "metadata": {
  "kernelspec": {
   "display_name": "Python 3",
   "language": "python",
   "name": "python3"
  },
  "language_info": {
   "codemirror_mode": {
    "name": "ipython",
    "version": 3
   },
   "file_extension": ".py",
   "mimetype": "text/x-python",
   "name": "python",
   "nbconvert_exporter": "python",
   "pygments_lexer": "ipython3",
   "version": "3.7.0"
  }
 },
 "nbformat": 4,
 "nbformat_minor": 2
}
