{
 "cells": [
  {
   "cell_type": "code",
   "execution_count": 18,
   "metadata": {},
   "outputs": [],
   "source": [
    "import requests\n",
    "import datetime\n",
    "from bs4 import BeautifulSoup\n",
    "import time\n",
    "\n",
    "# print (\"Start : %s\" % time.ctime())\n",
    "# time.sleep( 0.4)\n",
    "# print (\"End : %s\" % time.ctime())\n",
    "#print('我是{0},我愛{1}'.format('amos','吃飯'))\n",
    "#print('我{0}'.format('可以'))\n",
    "j=1\n",
    "path='C:\\\\Users\\\\amos\\\\Desktop\\\\Untitled Folder 1\\\\food\\\\'\n",
    "#https://www.ptt.cc\n",
    "for i in range (0,6):\n",
    "    b=5-i\n",
    "    res=requests.get('https://www.ptt.cc/bbs/Food/index682{0}.html'.format(b))\n",
    "    soup=BeautifulSoup(res.text)\n",
    "    for title in soup.select('div.title'):\n",
    "        for a in title.select('a'):\n",
    "            #print (a.attrs.get('href'))\n",
    "            each_res=requests.get('https://www.ptt.cc'+a.attrs.get('href'))\n",
    "            each_soup=BeautifulSoup(each_res.text)\n",
    "            for content in each_soup.select('div#main-content'):\n",
    "                #print(content.txt)\n",
    "                f = open(path+'f_'+str(j)+'.text','w',encoding = 'UTF-8')\n",
    "                f.write(content.text)\n",
    "                f.close()\n",
    "            j=j+1\n",
    "        \n",
    "        if j == 101:\n",
    "            break\n",
    "    \n",
    "#print(j)\n",
    "\n",
    "\n"
   ]
  },
  {
   "cell_type": "code",
   "execution_count": 13,
   "metadata": {},
   "outputs": [
    {
     "name": "stdout",
     "output_type": "stream",
     "text": [
      "<class 'bs4.BeautifulSoup'>\n"
     ]
    }
   ],
   "source": [
    "#print(type(each_soup))"
   ]
  },
  {
   "cell_type": "code",
   "execution_count": null,
   "metadata": {},
   "outputs": [],
   "source": []
  }
 ],
 "metadata": {
  "kernelspec": {
   "display_name": "Python 3",
   "language": "python",
   "name": "python3"
  },
  "language_info": {
   "codemirror_mode": {
    "name": "ipython",
    "version": 3
   },
   "file_extension": ".py",
   "mimetype": "text/x-python",
   "name": "python",
   "nbconvert_exporter": "python",
   "pygments_lexer": "ipython3",
   "version": "3.7.0"
  }
 },
 "nbformat": 4,
 "nbformat_minor": 2
}
