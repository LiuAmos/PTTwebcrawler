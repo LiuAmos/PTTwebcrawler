{
 "cells": [
  {
   "cell_type": "code",
   "execution_count": 26,
   "metadata": {},
   "outputs": [
    {
     "name": "stdout",
     "output_type": "stream",
     "text": [
      "Start : Mon Aug  6 21:32:49 2018\n",
      "End : Mon Aug  6 21:32:50 2018\n"
     ]
    }
   ],
   "source": [
    "import requests\n",
    "import datetime\n",
    "from bs4 import BeautifulSoup\n",
    "import time\n",
    "\n",
    "# print (\"Start : %s\" % time.ctime())\n",
    "# time.sleep( 0.4)\n",
    "# print (\"End : %s\" % time.ctime())\n",
    "#print('我是{0},我愛{1}'.format('amos','吃飯'))\n",
    "#print('我{0}'.format('可以'))\n",
    "j=0\n",
    "\n",
    "for i in range (0,6):\n",
    "    b=5-i\n",
    "    res=requests.get('https://www.ptt.cc/bbs/Food/index682{0}.html'.format(b))\n",
    "    soup=BeautifulSoup(res.text)\n",
    "    for title in soup.select('div.title'):\n",
    "        for a in title.select('a'):\n",
    "            print (a.attrs.get('href'))\n",
    "            j=j+1\n",
    "        \n",
    "        if j==100:\n",
    "            break\n",
    "    \n",
    "print(j)\n",
    "\n",
    "\n"
   ]
  },
  {
   "cell_type": "code",
   "execution_count": null,
   "metadata": {},
   "outputs": [],
   "source": []
  },
  {
   "cell_type": "code",
   "execution_count": null,
   "metadata": {},
   "outputs": [],
   "source": []
  }
 ],
 "metadata": {
  "kernelspec": {
   "display_name": "Python 3",
   "language": "python",
   "name": "python3"
  },
  "language_info": {
   "codemirror_mode": {
    "name": "ipython",
    "version": 3
   },
   "file_extension": ".py",
   "mimetype": "text/x-python",
   "name": "python",
   "nbconvert_exporter": "python",
   "pygments_lexer": "ipython3",
   "version": "3.7.0"
  }
 },
 "nbformat": 4,
 "nbformat_minor": 2
}
