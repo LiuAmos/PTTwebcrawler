{
 "cells": [
  {
   "cell_type": "code",
   "execution_count": 3,
   "metadata": {},
   "outputs": [
    {
     "name": "stdout",
     "output_type": "stream",
     "text": [
      "...,00,05,06,08,11,2018,21,22,30,Aug,Food,bbs,cc,com,html,http,https,ptt,www,一個,不會,不過,口感,可以,味道,喜歡,因為,地址,壽司,好吃,實業坊,店家,感覺,應該,我們,推薦,時間,有點,標題,沒有,消費,營業,用餐,發信,看板,真的,網址,覺得,豆花,起來,踢踢,這個,這樣,還是,還有,雖然,電話,食記,餐廳\n"
     ]
    }
   ],
   "source": [
    "import jieba\n",
    "import jieba.posseg as pseg\n",
    "import jieba.analyse\n",
    "\n",
    "j=1\n",
    "path='C:\\\\Users\\\\amos\\\\Desktop\\\\Untitled Folder 1\\\\food\\\\'\n",
    "str_food=''\n",
    "\n",
    "for i in range (1,101):\n",
    "    f = open(path+'f_'+str(j)+'.text','r',encoding = 'utf8')\n",
    "    #content=f.readlines()\n",
    "    content=f.read()\n",
    "\n",
    "    str_food=str_food+content\n",
    "\n",
    "    f.close()\n",
    "    j=j+1\n",
    "\n",
    "\n",
    "tags=jieba.analyse.extract_tags(str_food,60)\n",
    "tags.sort()\n",
    "tags=','.join(tags)\n",
    "print(tags)\n",
    "f = open(path+'f_0'+'.text','w',encoding = 'utf8')\n",
    "f.write(tags)\n",
    "f.close()\n",
    "#print('\\n'.join(tags))\n"
   ]
  },
  {
   "cell_type": "code",
   "execution_count": null,
   "metadata": {},
   "outputs": [],
   "source": []
  }
 ],
 "metadata": {
  "kernelspec": {
   "display_name": "Python 3",
   "language": "python",
   "name": "python3"
  },
  "language_info": {
   "codemirror_mode": {
    "name": "ipython",
    "version": 3
   },
   "file_extension": ".py",
   "mimetype": "text/x-python",
   "name": "python",
   "nbconvert_exporter": "python",
   "pygments_lexer": "ipython3",
   "version": "3.7.0"
  }
 },
 "nbformat": 4,
 "nbformat_minor": 2
}
