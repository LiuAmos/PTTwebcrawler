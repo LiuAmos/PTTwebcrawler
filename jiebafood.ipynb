{
 "cells": [
  {
   "cell_type": "code",
   "execution_count": 24,
   "metadata": {},
   "outputs": [
    {
     "name": "stderr",
     "output_type": "stream",
     "text": [
      "Building prefix dict from C:\\Users\\amos\\Desktop\\PTTwebcrawler\\dict.txt.big ...\n",
      "Loading model from cache C:\\Users\\amos\\AppData\\Local\\Temp\\jieba.u16651b329cbcd575f83fb1fd1020814f.cache\n",
      "Loading model cost 1.414 seconds.\n",
      "Prefix dict has been built succesfully.\n"
     ]
    },
    {
     "name": "stdout",
     "output_type": "stream",
     "text": [
      "100\n",
      "<class 'scipy.sparse.csr.csr_matrix'>\n",
      "0.0\n",
      "<class 'dict'>\n"
     ]
    }
   ],
   "source": [
    "import jieba\n",
    "import jieba.posseg as pseg\n",
    "import jieba.analyse\n",
    "from sklearn.feature_extraction.text import TfidfVectorizer\n",
    "jieba.set_dictionary('dict.txt.big')\n",
    "\n",
    "j=1\n",
    "path='C:\\\\Users\\\\amos\\\\Desktop\\\\PTTwebcrawler\\\\food\\\\'\n",
    "list_food=[]\n",
    "eachdoc_str=''\n",
    "#print(list_food)\n",
    "for i in range (1,101):\n",
    "    f = open(path+'f_'+str(j)+'.text','r',encoding = 'utf8')\n",
    "    #content=f.readlines()\n",
    "    content=f.read()\n",
    "    eachdoc_cut=jieba.cut(content,cut_all=False)\n",
    "    for k in eachdoc_cut:\n",
    "        #print(k)\n",
    "        eachdoc_str=eachdoc_str+k+' '\n",
    "    eachdoc_str=eachdoc_str.strip()\n",
    "    list_food.append(eachdoc_str)\n",
    "\n",
    "    f.close()\n",
    "    j=j+1\n",
    "# for q in range (0,2):\n",
    "#     print(list_food[q])\n",
    "print(len(list_food))\n",
    "\n",
    "tfidfVecorizer = TfidfVectorizer(analyzer=lambda x:x.split(' '))\n",
    "tfidf_matrix = tfidfVecorizer.fit_transform(list_food)\n",
    "#print(tfidf_matrix[0,1])\n",
    "print(type(tfidf_matrix))\n",
    "#print(tfidf_matrix)\n",
    "\n",
    "term2id_dict = tfidfVecorizer.vocabulary_\n",
    "print(type(term2id_dict))\n",
    "#print(term2id_dict)\n",
    "# f = open(path+'f_0'+'.text','w',encoding = 'utf8')\n",
    "# f.write(tags)\n",
    "# f.close()\n",
    "#print('\\n'.join(tags))\n"
   ]
  },
  {
   "cell_type": "code",
   "execution_count": null,
   "metadata": {},
   "outputs": [],
   "source": []
  },
  {
   "cell_type": "code",
   "execution_count": null,
   "metadata": {},
   "outputs": [],
   "source": []
  }
 ],
 "metadata": {
  "kernelspec": {
   "display_name": "Python 3",
   "language": "python",
   "name": "python3"
  },
  "language_info": {
   "codemirror_mode": {
    "name": "ipython",
    "version": 3
   },
   "file_extension": ".py",
   "mimetype": "text/x-python",
   "name": "python",
   "nbconvert_exporter": "python",
   "pygments_lexer": "ipython3",
   "version": "3.7.0"
  }
 },
 "nbformat": 4,
 "nbformat_minor": 2
}
