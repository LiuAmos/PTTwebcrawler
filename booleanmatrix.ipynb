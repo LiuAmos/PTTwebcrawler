{
 "cells": [
  {
   "cell_type": "code",
   "execution_count": 41,
   "metadata": {
    "scrolled": false
   },
   "outputs": [
    {
     "name": "stdout",
     "output_type": "stream",
     "text": [
      "['下面是關鍵字', '...', '00', '05', '06', '08', '11', '2018', '22', '30', 'Aug', 'Food', 'bbs', 'cc', 'com', 'html', 'http', 'https', 'ptt', 'www', '一個', '不會', '不過', '不錯', '來自', '來說', '口感', '可以', '味道', '喜歡', '因為', '地址', '壽司', '好吃', '實業', '感覺', '應該', '我們', '推薦', '時間', '有點', '標題', '比較', '沒有', '消費', '營業時間', '發信站', '看板', '網址', '菜單', '覺得', '豆花', '起來', '踢踢', '這樣', '還是', '還有', '雖然', '電話', '食記', '餐廳', '...', '00', '01', '02', '03', '04', '05', '06', '07', '08', '09', '10', '11', '12', '13', '14', '15', '16', '17', '18', '19', '20', '2018', '21', '22', '23', '28', '51', '54', 'Aug', 'MobileComm', 'bbs', 'cc', 'com', 'html', 'https', 'imgur', 'jpg', 'ptt', 'www', '不會', '什麼', '來自', '問題', '實業', '應該', '手機', '時間', '標題', '比較', '沒有', '現在', '發信站', '看板', '網址', '編輯', '螢幕', '覺得', '踢踢', '還是']\n"
     ]
    }
   ],
   "source": [
    "import jieba\n",
    "import jieba.posseg as pseg\n",
    "import jieba.analyse\n",
    "\n",
    "\n",
    "#path='C:\\\\Users\\\\amos\\\\Desktop\\\\Untitled Folder 1\\\\food\\\\'\n",
    "#path='C:\\\\Users\\\\User\\\\Desktop\\\\Untitled Folder\\\\food\\\\'\n",
    "path='C:\\\\Users\\\\amos\\\\Desktop\\\\PTTwebcrawler\\\\food\\\\'\n",
    "path_mobile='C:\\\\Users\\\\amos\\\\Desktop\\\\PTTwebcrawler\\\\mobile\\\\'\n",
    "\n",
    "list_string_food=[]\n",
    "list_string_mobile=[]\n",
    "list_string_total=[]\n",
    "\n",
    "list_feature_food=[]\n",
    "list_feature_mobile=[]\n",
    "list_feature_total=[]\n",
    "\n",
    "list_boolean=[]\n",
    "\n",
    "#list_string.append('')\n",
    "list_boolean.append(['下面是關鍵字'])\n",
    "\n",
    "#list_boolean[0][0]='下面是關鍵字'\n",
    "#list_feature.append('')\n",
    "#print(list_boolean)\n",
    "#print(list_feature)\n",
    "\n",
    "for i in range (0,101):\n",
    "    f = open(path+'f_'+str(i)+'.text','r',encoding = 'utf8')\n",
    "    content=f.read()\n",
    "    list_string_food.append(content)\n",
    "    f.close()\n",
    "    \n",
    "for j in range (0,101):\n",
    "    f = open(path_mobile+'m_'+str(j)+'.text','r',encoding = 'utf8')\n",
    "    content=f.read()\n",
    "    list_string_mobile.append(content)\n",
    "    f.close()\n",
    "    \n",
    "\n",
    "\n",
    "list_feature_food=list_string_food[0].split(',')\n",
    "list_feature_mobile=list_string_mobile[0].split(',')\n",
    "list_feature_total=list_feature_food+list_feature_mobile\n",
    "list_string_total=list_string_food+list_string_mobile\n",
    "\n",
    "for p in range (1,202):\n",
    "    if p==101: \n",
    "        continue\n",
    "    list_boolean.append([list_string_total[p]])\n",
    "\n",
    "#print(len(list_boolean))\n",
    "#print(list_boolean[0][0])\n",
    "#print(list_feature_total)\n",
    "#print(list_string_total[101])\n",
    "\n",
    "for q in range (1,121):\n",
    "    list_boolean[0].append(list_feature_total[q-1])\n",
    "\n",
    "for k in range (1,201):\n",
    "    for m in range(0,120):\n",
    "        if list_boolean[k][0].find(list_feature_total[m]) == -1:\n",
    "            #print('沒找到')\n",
    "            list_boolean[k].append('0')\n",
    "        else:\n",
    "            #print('找到了!')\n",
    "            list_boolean[k].append('1')\n",
    "print(list_boolean[0])"
   ]
  },
  {
   "cell_type": "code",
   "execution_count": 7,
   "metadata": {},
   "outputs": [
    {
     "name": "stdout",
     "output_type": "stream",
     "text": [
      "...,00,05,06,08,11,2018,22,30,Aug,Food,bbs,cc,com,html,http,https,ptt,www,一個,不會,不過,不錯,來自,來說,口感,可以,味道,喜歡,因為,地址,壽司,好吃,實業,感覺,應該,我們,推薦,時間,有點,標題,比較,沒有,消費,營業時間,發信站,看板,網址,菜單,覺得,豆花,起來,踢踢,這樣,還是,還有,雖然,電話,食記,餐廳\n"
     ]
    }
   ],
   "source": [
    "print(list_string_food[0])"
   ]
  },
  {
   "cell_type": "code",
   "execution_count": null,
   "metadata": {},
   "outputs": [],
   "source": []
  },
  {
   "cell_type": "code",
   "execution_count": null,
   "metadata": {},
   "outputs": [],
   "source": []
  },
  {
   "cell_type": "code",
   "execution_count": null,
   "metadata": {},
   "outputs": [],
   "source": []
  }
 ],
 "metadata": {
  "kernelspec": {
   "display_name": "Python 3",
   "language": "python",
   "name": "python3"
  },
  "language_info": {
   "codemirror_mode": {
    "name": "ipython",
    "version": 3
   },
   "file_extension": ".py",
   "mimetype": "text/x-python",
   "name": "python",
   "nbconvert_exporter": "python",
   "pygments_lexer": "ipython3",
   "version": "3.7.0"
  }
 },
 "nbformat": 4,
 "nbformat_minor": 2
}
